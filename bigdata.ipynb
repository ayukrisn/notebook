{
 "cells": [
  {
   "cell_type": "markdown",
   "metadata": {},
   "source": [
    "# Preparing Libraries and Installations"
   ]
  },
  {
   "cell_type": "code",
   "execution_count": 1,
   "metadata": {},
   "outputs": [
    {
     "name": "stdout",
     "output_type": "stream",
     "text": [
      "Defaulting to user installation because normal site-packages is not writeable\n",
      "Requirement already satisfied: bs4 in c:\\users\\ayu krisna\\appdata\\roaming\\python\\python311\\site-packages (0.0.2)\n",
      "Requirement already satisfied: selenium in c:\\users\\ayu krisna\\appdata\\roaming\\python\\python311\\site-packages (4.21.0)\n",
      "Requirement already satisfied: beautifulsoup4 in c:\\programdata\\anaconda3\\lib\\site-packages (from bs4) (4.12.2)\n",
      "Requirement already satisfied: urllib3<3,>=1.26 in c:\\programdata\\anaconda3\\lib\\site-packages (from urllib3[socks]<3,>=1.26->selenium) (2.0.3)\n",
      "Requirement already satisfied: trio~=0.17 in c:\\users\\ayu krisna\\appdata\\roaming\\python\\python311\\site-packages (from selenium) (0.25.1)\n",
      "Requirement already satisfied: trio-websocket~=0.9 in c:\\users\\ayu krisna\\appdata\\roaming\\python\\python311\\site-packages (from selenium) (0.11.1)\n",
      "Requirement already satisfied: certifi>=2021.10.8 in c:\\programdata\\anaconda3\\lib\\site-packages (from selenium) (2024.2.2)\n",
      "Requirement already satisfied: typing_extensions>=4.9.0 in c:\\programdata\\anaconda3\\lib\\site-packages (from selenium) (4.9.0)\n",
      "Requirement already satisfied: attrs>=23.2.0 in c:\\users\\ayu krisna\\appdata\\roaming\\python\\python311\\site-packages (from trio~=0.17->selenium) (23.2.0)\n",
      "Requirement already satisfied: sortedcontainers in c:\\programdata\\anaconda3\\lib\\site-packages (from trio~=0.17->selenium) (2.4.0)\n",
      "Requirement already satisfied: idna in c:\\programdata\\anaconda3\\lib\\site-packages (from trio~=0.17->selenium) (3.4)\n",
      "Requirement already satisfied: outcome in c:\\users\\ayu krisna\\appdata\\roaming\\python\\python311\\site-packages (from trio~=0.17->selenium) (1.3.0.post0)\n",
      "Requirement already satisfied: sniffio>=1.3.0 in c:\\programdata\\anaconda3\\lib\\site-packages (from trio~=0.17->selenium) (1.3.0)\n",
      "Requirement already satisfied: cffi>=1.14 in c:\\programdata\\anaconda3\\lib\\site-packages (from trio~=0.17->selenium) (1.16.0)\n",
      "Requirement already satisfied: wsproto>=0.14 in c:\\users\\ayu krisna\\appdata\\roaming\\python\\python311\\site-packages (from trio-websocket~=0.9->selenium) (1.2.0)\n",
      "Requirement already satisfied: pysocks!=1.5.7,<2.0,>=1.5.6 in c:\\programdata\\anaconda3\\lib\\site-packages (from urllib3[socks]<3,>=1.26->selenium) (1.7.1)\n",
      "Requirement already satisfied: soupsieve>1.2 in c:\\programdata\\anaconda3\\lib\\site-packages (from beautifulsoup4->bs4) (2.5)\n",
      "Requirement already satisfied: pycparser in c:\\programdata\\anaconda3\\lib\\site-packages (from cffi>=1.14->trio~=0.17->selenium) (2.21)\n",
      "Requirement already satisfied: h11<1,>=0.9.0 in c:\\users\\ayu krisna\\appdata\\roaming\\python\\python311\\site-packages (from wsproto>=0.14->trio-websocket~=0.9->selenium) (0.14.0)\n",
      "Note: you may need to restart the kernel to use updated packages.\n"
     ]
    }
   ],
   "source": [
    "%pip install bs4 selenium"
   ]
  },
  {
   "cell_type": "code",
   "execution_count": 6,
   "metadata": {},
   "outputs": [],
   "source": [
    "import selenium\n",
    "from selenium import webdriver\n",
    "from selenium.webdriver.chrome.service import Service\n",
    "from selenium.webdriver.chrome.options import Options\n",
    "from webdriver_manager.chrome import ChromeDriverManager\n",
    "from selenium.common.exceptions import WebDriverException\n",
    "\n",
    "from selenium.webdriver.common.by import By\n",
    "from selenium.webdriver.support.ui import WebDriverWait\n",
    "from selenium.webdriver.support import expected_conditions as EC\n",
    "\n",
    "from selenium.common.exceptions import TimeoutException\n",
    "\n",
    "from bs4 import BeautifulSoup\n",
    "\n",
    "import pandas as pd\n",
    "import time"
   ]
  },
  {
   "cell_type": "markdown",
   "metadata": {},
   "source": [
    "# Opening the Website"
   ]
  },
  {
   "cell_type": "code",
   "execution_count": 8,
   "metadata": {},
   "outputs": [
    {
     "name": "stdout",
     "output_type": "stream",
     "text": [
      "Emina Sun Protection SPF 30 PA+++ - Beauty Review\n",
      "Review: Teksturnya agak watery gituDiblendnya agak lumayan usahaDi muka saya, kerasa panas pas dipakai. Dan ada aroma agak tajemnya. Tapi emang harganya sangat affordable. Kalau pas keringetan, lumayan keliatan putih putih gitu bulir keringetnya dan agak pedih dimata.\n",
      "\n",
      "Review: udah pake ini dari jaman SMA hahah seneng banget bisa cocok. suka banget sama texturenya yang ringan, gampang nyerep, gampang diblend, gak bikin gerah, gak ada whitecast. yang bikin seneng lagi, harganya murah meriah dan gampang didapetin.\n",
      "\n",
      "Review: ini adalah suncreen pertamaku , dulu cocok banget krn harganya sangat friendly di kantong pelajar , mudah untuk di apply juga .. cuma gatau kenapa tiap aku habis pakai ini muka jadi keliatan lebih kusam , jd aku ga terlalu merekomendasikannya siii\n",
      "\n",
      "Review: Emina itu brand yang nge hype buat remaja dan aku dulu pernah jadi one of among a lot collector juga diantaranya yg pernah aku beli ini adalah spf nya yang di edisi packaging pattern unyu dan simple.. oke.. spf ini yg paling light dari semua spf yg pernah aku pakai.. sampai\" efeknya juga kayak ga pakai spf saking dia daya absorb nya yang setipis hantu.. fun fact nya adalah dia spf pertama aku yg beli iseng tanpa ada maksud daily used nih.. hahaha.. jadi cuman iseng aja.. btw,, bau aloe vera nya yang khas ala spf emina ini memang the best ya.. legend baunya.. teksturnya gel to lotion gituu.. memang spf affordable sih.. tapi belum tau efektifnya kalau buat daily bagus apa nggak..\n",
      "\n",
      "Review: sunscreen pertama akuu pas kenal skincareeteksturnya gel gtu mudah buat aplikasiinnyagda efek apa' si diaku, tapi mnurutku aku agak kurang cocok karena fragrancenya lumayan kenceng jadi ga nyaman aja pakenya\n",
      "\n",
      "Review: astaga ini tuh ss paling ngga banget dari semua ss yang aku pake, dia tuh bener bener bikin minyakan terus bruntusan parah dannnn bikin kusam banget, ngga tau emang muka aku yang sensitif atau gimana tapi ini emang bener bener ngga cocok bangetttt mungkin di beberapa orang ada yang cocok and balik lagi ke tipkul orang orang\n",
      "\n",
      "Review: Huhu sorry bgt tp ga suka sm ini product 😭 bikin kusem dan berminyak bgt. Jadi berat di wajah klo buat oily skin kek aku. Sepertinya ini lbh cocok buat yg normal-dry sih. Texturenya kyk gel putih kuning dikit cuman ga gampang nyerep gt lho. Aku gatau sih hasil reformulasinya kek apa. Soalnya, aku nyoba yg lama aku krng suka dan simply krn aku udah nemu yg lbh cocok aja sih. Plus nya emg affordable dan gampang ditemuin dimana2\n",
      "\n",
      "Review: pernah makai sunscreen emina ini pas dulu jaman sekolah lagi viral dan hype banget! bagus sih sebenernya cuma kurang cocok di muka ku agak bikin kusam after usednya jadi gak lanjut makai cuma semuanya oke aja kok produk dan komposisinya bagus\n",
      "\n",
      "Review: Sebenarnya dulu waktu SMP sunscreen yang biasa aku pake dari emina sampe.aku sma pun masih tetep pake ko sempet berhenti waktu lagi breakout di masa pandemi dan kembali aku pake pas kuliah beberapa bulan aja sebenaenya untuk teksturnyan bagus koo tapi sayangnya dia ada kandungan alkohol yang buat dahi aku suka muncul bruntusan meskipun ga parah menurut ku juga tetap mengganggu bruntusannya cuma muncul beberapa ajaa dan di bawah kantung mata pun juga kadang ada belum lagi efek pemakaian beberapa jam kedepannya jadi buat kusam di wajah jadi aku kurang sukaa :( ,aku baru berani ambil keputusan ganti sunscreen setelah memasuki masa kuliah setelah beberapa tahun SMP dan SMA skincare yang aku pake dari emina semua xixxi... , tapi gais yang dulu aku pake kan formula lama untuk formula sekarang ini jauh lebih bagus koo sunscreennya meskipun belum pernah aku coba lagi sih sekarang tapi kalau berdasarkan review dari beberapa temen aku yang pake mereka ngejelasin formula sunscreen yang terbaru ini ada yang non-alkohol , ada juga varian yang non-comedogenic dan non-acnegenic. Menurutku jadi upgrade lebih bagus lagi sih harusnya udah ga ada permasalahan yang aku alami dulu di formula yang sekarang ( untuk sekarang aku cuma bisa kasih bintang 3 mungkin kalau nanti ada kesempatan buat coba formula barunya aku balik lagi buat review dan mempertimbangkan nilainya lagi 🥰)\n",
      "\n",
      "Review: Cocok untuk kulit normal to oily, sehingga gak terlalu becek di kulit cuma kurangnya dia agak bge crak kalau pake bedak padat. Overall untuk harga yang terjangkau dan ringan ini cocok untuk anak sekolahan dan gak ngebuat kulit menjadi iritasi\n",
      "\n"
     ]
    }
   ],
   "source": [
    "# URL Ulasan dari Female Daily\n",
    "url = \"https://reviews.femaledaily.com/products/moisturizer/sun-protection-1/emina/sun-protection-spf-30-pa\"\n",
    "\n",
    "try:\n",
    "    # Inisialisasi option chrome\n",
    "    chrome_options = Options()\n",
    "    # chrome_options.add_argument('--headless')\n",
    "    # chrome_options.add_argument('--no-sandbox')\n",
    "    # chrome_options.add_argument('--disable-dev-shm-usage')\n",
    "\n",
    "    # Inisialisasi WebDriver\n",
    "    service = Service(executable_path = ChromeDriverManager().install())\n",
    "    driver = webdriver.Chrome(service=service, options=chrome_options)\n",
    "\n",
    "    # Buka URL\n",
    "    driver.get(url)\n",
    "    wait = WebDriverWait(driver, 10)\n",
    "\n",
    "    # Ekstrak dan print title\n",
    "    print(driver.title)\n",
    "    time.sleep(5) #tunggu 5 detik\n",
    "\n",
    "    # Get List Reviews\n",
    "    soup = BeautifulSoup(driver.page_source, 'html.parser')\n",
    "    list_reviews = soup.find(class_='list-reviews')\n",
    "    reviews = list_reviews.find_all(class_='review-card')\n",
    "\n",
    "    for review in reviews:\n",
    "        right_col = review.find(class_= 'review-card-col right')\n",
    "        wrapper = right_col.find(class_='review-content-wrapper')\n",
    "\n",
    "        review_text = wrapper.find(class_='text-content').get_text(strip=True)\n",
    "        print(f'Review: {review_text}\\n')\n",
    "\n",
    "    # list_reviews = driver.find_elements(By.CLASS_NAME, 'list-reviews')\n",
    "    # reviews = list_reviews.find_elements(By.CLASS_NAME, 'review-card')\n",
    "\n",
    "    # for review in reviews:\n",
    "    #     age = review.find_element(By.CLASS_NAME, 'profile_age')\n",
    "    #     print(f\"Age: {age}\\n\")\n",
    "\n",
    "    # Next Button untuk pagination\n",
    "    # next_button = wait.until(EC.element_to_be_clickable((By.CLASS_NAME, 'paging-prev-text-active')))\n",
    "\n",
    "    # driver.execute_script(\"arguments[0].scrollIntoView(true);\", next_button)\n",
    "    # time.sleep(1)  # brief sleep to allow any potential animations to complete\n",
    "\n",
    "    # try:\n",
    "    #     next_button.click()\n",
    "    #     time.sleep(10)\n",
    "    # except WebDriverException:\n",
    "    #     # If the click fails, use JavaScript to click\n",
    "    #     driver.execute_script(\"arguments[0].click();\", next_button)\n",
    "\n",
    "#exception\n",
    "except WebDriverException as e:\n",
    "    print(f\"WebDriverException: {e}\")\n",
    "except Exception as e:\n",
    "    print(f\"An unexpected error occurred: {e}\")\n",
    "except TimeoutException:\n",
    "    print(\"The element was not clickable within the given time\")\n",
    "finally:\n",
    "    time.sleep(10)\n",
    "    driver.quit()"
   ]
  },
  {
   "cell_type": "markdown",
   "metadata": {},
   "source": [
    "# Trying Selenium"
   ]
  }
 ],
 "metadata": {
  "kernelspec": {
   "display_name": "base",
   "language": "python",
   "name": "python3"
  },
  "language_info": {
   "codemirror_mode": {
    "name": "ipython",
    "version": 3
   },
   "file_extension": ".py",
   "mimetype": "text/x-python",
   "name": "python",
   "nbconvert_exporter": "python",
   "pygments_lexer": "ipython3",
   "version": "3.11.7"
  }
 },
 "nbformat": 4,
 "nbformat_minor": 2
}
